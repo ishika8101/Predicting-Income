{
 "cells": [
  {
   "cell_type": "markdown",
   "id": "82951d6c",
   "metadata": {},
   "source": [
    "# MACHINE LEARNING MAJOR PROJECT FEB (ISHIKA SAINI)"
   ]
  },
  {
   "cell_type": "markdown",
   "id": "cb6d8215",
   "metadata": {},
   "source": [
    "### Problem Statement: Create a classification model to predict whether a person makes over $50k a year. "
   ]
  },
  {
   "cell_type": "code",
   "execution_count": 54,
   "id": "0fb10ed3",
   "metadata": {},
   "outputs": [],
   "source": [
    "import pandas as pd\n",
    "import numpy as np\n",
    "import matplotlib.pyplot as plt\n",
    "import seaborn as sns\n",
    "from sklearn.tree import DecisionTreeClassifier\n",
    "from sklearn.ensemble import RandomForestClassifier\n",
    "from sklearn.svm import SVC\n",
    "from sklearn.neighbors import KNeighborsClassifier\n",
    "from sklearn.linear_model import LogisticRegression\n",
    "from sklearn.metrics import classification_report,confusion_matrix"
   ]
  },
  {
   "cell_type": "markdown",
   "id": "ce858922",
   "metadata": {},
   "source": [
    "### Importing Libraries"
   ]
  },
  {
   "cell_type": "code",
   "execution_count": 55,
   "id": "76d1a9d7",
   "metadata": {},
   "outputs": [],
   "source": [
    "df = pd.read_csv(\"adult.csv\")"
   ]
  },
  {
   "cell_type": "code",
   "execution_count": 56,
   "id": "b85ae827",
   "metadata": {},
   "outputs": [
    {
     "data": {
      "text/html": [
       "<div>\n",
       "<style scoped>\n",
       "    .dataframe tbody tr th:only-of-type {\n",
       "        vertical-align: middle;\n",
       "    }\n",
       "\n",
       "    .dataframe tbody tr th {\n",
       "        vertical-align: top;\n",
       "    }\n",
       "\n",
       "    .dataframe thead th {\n",
       "        text-align: right;\n",
       "    }\n",
       "</style>\n",
       "<table border=\"1\" class=\"dataframe\">\n",
       "  <thead>\n",
       "    <tr style=\"text-align: right;\">\n",
       "      <th></th>\n",
       "      <th>39</th>\n",
       "      <th>State-gov</th>\n",
       "      <th>77516</th>\n",
       "      <th>Bachelors</th>\n",
       "      <th>13</th>\n",
       "      <th>Never-married</th>\n",
       "      <th>Adm-clerical</th>\n",
       "      <th>Not-in-family</th>\n",
       "      <th>White</th>\n",
       "      <th>Male</th>\n",
       "      <th>2174</th>\n",
       "      <th>0</th>\n",
       "      <th>40</th>\n",
       "      <th>United-States</th>\n",
       "      <th>&lt;=50K</th>\n",
       "    </tr>\n",
       "  </thead>\n",
       "  <tbody>\n",
       "    <tr>\n",
       "      <th>0</th>\n",
       "      <td>50</td>\n",
       "      <td>Self-emp-not-inc</td>\n",
       "      <td>83311</td>\n",
       "      <td>Bachelors</td>\n",
       "      <td>13</td>\n",
       "      <td>Married-civ-spouse</td>\n",
       "      <td>Exec-managerial</td>\n",
       "      <td>Husband</td>\n",
       "      <td>White</td>\n",
       "      <td>Male</td>\n",
       "      <td>0</td>\n",
       "      <td>0</td>\n",
       "      <td>13</td>\n",
       "      <td>United-States</td>\n",
       "      <td>&lt;=50K</td>\n",
       "    </tr>\n",
       "    <tr>\n",
       "      <th>1</th>\n",
       "      <td>38</td>\n",
       "      <td>Private</td>\n",
       "      <td>215646</td>\n",
       "      <td>HS-grad</td>\n",
       "      <td>9</td>\n",
       "      <td>Divorced</td>\n",
       "      <td>Handlers-cleaners</td>\n",
       "      <td>Not-in-family</td>\n",
       "      <td>White</td>\n",
       "      <td>Male</td>\n",
       "      <td>0</td>\n",
       "      <td>0</td>\n",
       "      <td>40</td>\n",
       "      <td>United-States</td>\n",
       "      <td>&lt;=50K</td>\n",
       "    </tr>\n",
       "    <tr>\n",
       "      <th>2</th>\n",
       "      <td>53</td>\n",
       "      <td>Private</td>\n",
       "      <td>234721</td>\n",
       "      <td>11th</td>\n",
       "      <td>7</td>\n",
       "      <td>Married-civ-spouse</td>\n",
       "      <td>Handlers-cleaners</td>\n",
       "      <td>Husband</td>\n",
       "      <td>Black</td>\n",
       "      <td>Male</td>\n",
       "      <td>0</td>\n",
       "      <td>0</td>\n",
       "      <td>40</td>\n",
       "      <td>United-States</td>\n",
       "      <td>&lt;=50K</td>\n",
       "    </tr>\n",
       "    <tr>\n",
       "      <th>3</th>\n",
       "      <td>28</td>\n",
       "      <td>Private</td>\n",
       "      <td>338409</td>\n",
       "      <td>Bachelors</td>\n",
       "      <td>13</td>\n",
       "      <td>Married-civ-spouse</td>\n",
       "      <td>Prof-specialty</td>\n",
       "      <td>Wife</td>\n",
       "      <td>Black</td>\n",
       "      <td>Female</td>\n",
       "      <td>0</td>\n",
       "      <td>0</td>\n",
       "      <td>40</td>\n",
       "      <td>Cuba</td>\n",
       "      <td>&lt;=50K</td>\n",
       "    </tr>\n",
       "    <tr>\n",
       "      <th>4</th>\n",
       "      <td>37</td>\n",
       "      <td>Private</td>\n",
       "      <td>284582</td>\n",
       "      <td>Masters</td>\n",
       "      <td>14</td>\n",
       "      <td>Married-civ-spouse</td>\n",
       "      <td>Exec-managerial</td>\n",
       "      <td>Wife</td>\n",
       "      <td>White</td>\n",
       "      <td>Female</td>\n",
       "      <td>0</td>\n",
       "      <td>0</td>\n",
       "      <td>40</td>\n",
       "      <td>United-States</td>\n",
       "      <td>&lt;=50K</td>\n",
       "    </tr>\n",
       "  </tbody>\n",
       "</table>\n",
       "</div>"
      ],
      "text/plain": [
       "   39          State-gov   77516   Bachelors   13        Never-married  \\\n",
       "0  50   Self-emp-not-inc   83311   Bachelors   13   Married-civ-spouse   \n",
       "1  38            Private  215646     HS-grad    9             Divorced   \n",
       "2  53            Private  234721        11th    7   Married-civ-spouse   \n",
       "3  28            Private  338409   Bachelors   13   Married-civ-spouse   \n",
       "4  37            Private  284582     Masters   14   Married-civ-spouse   \n",
       "\n",
       "         Adm-clerical   Not-in-family   White     Male   2174   0   40  \\\n",
       "0     Exec-managerial         Husband   White     Male      0   0   13   \n",
       "1   Handlers-cleaners   Not-in-family   White     Male      0   0   40   \n",
       "2   Handlers-cleaners         Husband   Black     Male      0   0   40   \n",
       "3      Prof-specialty            Wife   Black   Female      0   0   40   \n",
       "4     Exec-managerial            Wife   White   Female      0   0   40   \n",
       "\n",
       "    United-States   <=50K  \n",
       "0   United-States   <=50K  \n",
       "1   United-States   <=50K  \n",
       "2   United-States   <=50K  \n",
       "3            Cuba   <=50K  \n",
       "4   United-States   <=50K  "
      ]
     },
     "execution_count": 56,
     "metadata": {},
     "output_type": "execute_result"
    }
   ],
   "source": [
    "df.head()"
   ]
  },
  {
   "cell_type": "code",
   "execution_count": 57,
   "id": "9378d6bd",
   "metadata": {},
   "outputs": [
    {
     "data": {
      "text/plain": [
       "(32560, 15)"
      ]
     },
     "execution_count": 57,
     "metadata": {},
     "output_type": "execute_result"
    }
   ],
   "source": [
    "df.shape"
   ]
  },
  {
   "cell_type": "markdown",
   "id": "7226c1af",
   "metadata": {},
   "source": [
    "### Changing Columns Names"
   ]
  },
  {
   "cell_type": "code",
   "execution_count": 58,
   "id": "0ba36f1e",
   "metadata": {},
   "outputs": [
    {
     "data": {
      "text/html": [
       "<div>\n",
       "<style scoped>\n",
       "    .dataframe tbody tr th:only-of-type {\n",
       "        vertical-align: middle;\n",
       "    }\n",
       "\n",
       "    .dataframe tbody tr th {\n",
       "        vertical-align: top;\n",
       "    }\n",
       "\n",
       "    .dataframe thead th {\n",
       "        text-align: right;\n",
       "    }\n",
       "</style>\n",
       "<table border=\"1\" class=\"dataframe\">\n",
       "  <thead>\n",
       "    <tr style=\"text-align: right;\">\n",
       "      <th></th>\n",
       "      <th>Age</th>\n",
       "      <th>Workclass</th>\n",
       "      <th>Fnlwgt</th>\n",
       "      <th>Education</th>\n",
       "      <th>Edu_no</th>\n",
       "      <th>Marital_status</th>\n",
       "      <th>Occupation</th>\n",
       "      <th>Relationship</th>\n",
       "      <th>Race</th>\n",
       "      <th>Sex</th>\n",
       "      <th>Capital_gain</th>\n",
       "      <th>Capital_loss</th>\n",
       "      <th>Hours_per_week</th>\n",
       "      <th>Native_country</th>\n",
       "      <th>Income</th>\n",
       "    </tr>\n",
       "  </thead>\n",
       "  <tbody>\n",
       "    <tr>\n",
       "      <th>0</th>\n",
       "      <td>50</td>\n",
       "      <td>Self-emp-not-inc</td>\n",
       "      <td>83311</td>\n",
       "      <td>Bachelors</td>\n",
       "      <td>13</td>\n",
       "      <td>Married-civ-spouse</td>\n",
       "      <td>Exec-managerial</td>\n",
       "      <td>Husband</td>\n",
       "      <td>White</td>\n",
       "      <td>Male</td>\n",
       "      <td>0</td>\n",
       "      <td>0</td>\n",
       "      <td>13</td>\n",
       "      <td>United-States</td>\n",
       "      <td>&lt;=50K</td>\n",
       "    </tr>\n",
       "    <tr>\n",
       "      <th>1</th>\n",
       "      <td>38</td>\n",
       "      <td>Private</td>\n",
       "      <td>215646</td>\n",
       "      <td>HS-grad</td>\n",
       "      <td>9</td>\n",
       "      <td>Divorced</td>\n",
       "      <td>Handlers-cleaners</td>\n",
       "      <td>Not-in-family</td>\n",
       "      <td>White</td>\n",
       "      <td>Male</td>\n",
       "      <td>0</td>\n",
       "      <td>0</td>\n",
       "      <td>40</td>\n",
       "      <td>United-States</td>\n",
       "      <td>&lt;=50K</td>\n",
       "    </tr>\n",
       "    <tr>\n",
       "      <th>2</th>\n",
       "      <td>53</td>\n",
       "      <td>Private</td>\n",
       "      <td>234721</td>\n",
       "      <td>11th</td>\n",
       "      <td>7</td>\n",
       "      <td>Married-civ-spouse</td>\n",
       "      <td>Handlers-cleaners</td>\n",
       "      <td>Husband</td>\n",
       "      <td>Black</td>\n",
       "      <td>Male</td>\n",
       "      <td>0</td>\n",
       "      <td>0</td>\n",
       "      <td>40</td>\n",
       "      <td>United-States</td>\n",
       "      <td>&lt;=50K</td>\n",
       "    </tr>\n",
       "    <tr>\n",
       "      <th>3</th>\n",
       "      <td>28</td>\n",
       "      <td>Private</td>\n",
       "      <td>338409</td>\n",
       "      <td>Bachelors</td>\n",
       "      <td>13</td>\n",
       "      <td>Married-civ-spouse</td>\n",
       "      <td>Prof-specialty</td>\n",
       "      <td>Wife</td>\n",
       "      <td>Black</td>\n",
       "      <td>Female</td>\n",
       "      <td>0</td>\n",
       "      <td>0</td>\n",
       "      <td>40</td>\n",
       "      <td>Cuba</td>\n",
       "      <td>&lt;=50K</td>\n",
       "    </tr>\n",
       "    <tr>\n",
       "      <th>4</th>\n",
       "      <td>37</td>\n",
       "      <td>Private</td>\n",
       "      <td>284582</td>\n",
       "      <td>Masters</td>\n",
       "      <td>14</td>\n",
       "      <td>Married-civ-spouse</td>\n",
       "      <td>Exec-managerial</td>\n",
       "      <td>Wife</td>\n",
       "      <td>White</td>\n",
       "      <td>Female</td>\n",
       "      <td>0</td>\n",
       "      <td>0</td>\n",
       "      <td>40</td>\n",
       "      <td>United-States</td>\n",
       "      <td>&lt;=50K</td>\n",
       "    </tr>\n",
       "  </tbody>\n",
       "</table>\n",
       "</div>"
      ],
      "text/plain": [
       "   Age          Workclass  Fnlwgt   Education  Edu_no       Marital_status  \\\n",
       "0   50   Self-emp-not-inc   83311   Bachelors      13   Married-civ-spouse   \n",
       "1   38            Private  215646     HS-grad       9             Divorced   \n",
       "2   53            Private  234721        11th       7   Married-civ-spouse   \n",
       "3   28            Private  338409   Bachelors      13   Married-civ-spouse   \n",
       "4   37            Private  284582     Masters      14   Married-civ-spouse   \n",
       "\n",
       "           Occupation    Relationship    Race      Sex  Capital_gain  \\\n",
       "0     Exec-managerial         Husband   White     Male             0   \n",
       "1   Handlers-cleaners   Not-in-family   White     Male             0   \n",
       "2   Handlers-cleaners         Husband   Black     Male             0   \n",
       "3      Prof-specialty            Wife   Black   Female             0   \n",
       "4     Exec-managerial            Wife   White   Female             0   \n",
       "\n",
       "   Capital_loss  Hours_per_week  Native_country  Income  \n",
       "0             0              13   United-States   <=50K  \n",
       "1             0              40   United-States   <=50K  \n",
       "2             0              40   United-States   <=50K  \n",
       "3             0              40            Cuba   <=50K  \n",
       "4             0              40   United-States   <=50K  "
      ]
     },
     "execution_count": 58,
     "metadata": {},
     "output_type": "execute_result"
    }
   ],
   "source": [
    "df.columns = ['Age','Workclass','Fnlwgt','Education','Edu_no','Marital_status','Occupation','Relationship','Race','Sex','Capital_gain','Capital_loss','Hours_per_week','Native_country','Income']\n",
    "df.head()"
   ]
  },
  {
   "cell_type": "markdown",
   "id": "5e76aae2",
   "metadata": {},
   "source": [
    "### Checking for null values "
   ]
  },
  {
   "cell_type": "code",
   "execution_count": 59,
   "id": "1f3c6af4",
   "metadata": {},
   "outputs": [
    {
     "data": {
      "text/plain": [
       "Age               0\n",
       "Workclass         0\n",
       "Fnlwgt            0\n",
       "Education         0\n",
       "Edu_no            0\n",
       "Marital_status    0\n",
       "Occupation        0\n",
       "Relationship      0\n",
       "Race              0\n",
       "Sex               0\n",
       "Capital_gain      0\n",
       "Capital_loss      0\n",
       "Hours_per_week    0\n",
       "Native_country    0\n",
       "Income            0\n",
       "dtype: int64"
      ]
     },
     "execution_count": 59,
     "metadata": {},
     "output_type": "execute_result"
    }
   ],
   "source": [
    "df.isnull().sum()"
   ]
  },
  {
   "cell_type": "code",
   "execution_count": 60,
   "id": "1bd3ec47",
   "metadata": {},
   "outputs": [
    {
     "data": {
      "text/plain": [
       "Age                int64\n",
       "Workclass         object\n",
       "Fnlwgt             int64\n",
       "Education         object\n",
       "Edu_no             int64\n",
       "Marital_status    object\n",
       "Occupation        object\n",
       "Relationship      object\n",
       "Race              object\n",
       "Sex               object\n",
       "Capital_gain       int64\n",
       "Capital_loss       int64\n",
       "Hours_per_week     int64\n",
       "Native_country    object\n",
       "Income            object\n",
       "dtype: object"
      ]
     },
     "execution_count": 60,
     "metadata": {},
     "output_type": "execute_result"
    }
   ],
   "source": [
    "df.dtypes"
   ]
  },
  {
   "cell_type": "code",
   "execution_count": 61,
   "id": "283d39b3",
   "metadata": {},
   "outputs": [],
   "source": [
    "from sklearn.preprocessing import LabelEncoder\n",
    "lb = LabelEncoder()"
   ]
  },
  {
   "cell_type": "code",
   "execution_count": 62,
   "id": "13c47b8c",
   "metadata": {},
   "outputs": [
    {
     "data": {
      "text/plain": [
       "4    22696\n",
       "6     2541\n",
       "2     2093\n",
       "0     1836\n",
       "7     1297\n",
       "5     1116\n",
       "1      960\n",
       "8       14\n",
       "3        7\n",
       "Name: Workclass, dtype: int64"
      ]
     },
     "execution_count": 62,
     "metadata": {},
     "output_type": "execute_result"
    }
   ],
   "source": [
    "df['Workclass'] = lb.fit_transform(df['Workclass'])\n",
    "df['Workclass'].value_counts()"
   ]
  },
  {
   "cell_type": "code",
   "execution_count": 63,
   "id": "dea484dc",
   "metadata": {},
   "outputs": [
    {
     "data": {
      "text/plain": [
       "11    10501\n",
       "15     7291\n",
       "9      5354\n",
       "12     1723\n",
       "8      1382\n",
       "1      1175\n",
       "7      1067\n",
       "0       933\n",
       "5       646\n",
       "14      576\n",
       "6       514\n",
       "2       433\n",
       "10      413\n",
       "4       333\n",
       "3       168\n",
       "13       51\n",
       "Name: Education, dtype: int64"
      ]
     },
     "execution_count": 63,
     "metadata": {},
     "output_type": "execute_result"
    }
   ],
   "source": [
    "df['Education'] = lb.fit_transform(df['Education'])\n",
    "df['Education'].value_counts()"
   ]
  },
  {
   "cell_type": "code",
   "execution_count": 64,
   "id": "12e571d3",
   "metadata": {},
   "outputs": [
    {
     "data": {
      "text/plain": [
       "2    14976\n",
       "4    10682\n",
       "0     4443\n",
       "5     1025\n",
       "6      993\n",
       "3      418\n",
       "1       23\n",
       "Name: Marital_status, dtype: int64"
      ]
     },
     "execution_count": 64,
     "metadata": {},
     "output_type": "execute_result"
    }
   ],
   "source": [
    "df['Marital_status'] = lb.fit_transform(df['Marital_status'])\n",
    "df['Marital_status'].value_counts()"
   ]
  },
  {
   "cell_type": "code",
   "execution_count": 65,
   "id": "91b4b1f8",
   "metadata": {},
   "outputs": [
    {
     "data": {
      "text/plain": [
       "10    4140\n",
       "3     4099\n",
       "4     4066\n",
       "1     3769\n",
       "12    3650\n",
       "8     3295\n",
       "7     2002\n",
       "0     1843\n",
       "14    1597\n",
       "6     1370\n",
       "5      994\n",
       "13     928\n",
       "11     649\n",
       "9      149\n",
       "2        9\n",
       "Name: Occupation, dtype: int64"
      ]
     },
     "execution_count": 65,
     "metadata": {},
     "output_type": "execute_result"
    }
   ],
   "source": [
    "df['Occupation'] = lb.fit_transform(df['Occupation'])\n",
    "df['Occupation'].value_counts()"
   ]
  },
  {
   "cell_type": "code",
   "execution_count": 66,
   "id": "5be72acc",
   "metadata": {},
   "outputs": [
    {
     "data": {
      "text/plain": [
       "0    13193\n",
       "1     8304\n",
       "3     5068\n",
       "4     3446\n",
       "5     1568\n",
       "2      981\n",
       "Name: Relationship, dtype: int64"
      ]
     },
     "execution_count": 66,
     "metadata": {},
     "output_type": "execute_result"
    }
   ],
   "source": [
    "df['Relationship'] = lb.fit_transform(df['Relationship'])\n",
    "df['Relationship'].value_counts()"
   ]
  },
  {
   "cell_type": "code",
   "execution_count": 67,
   "id": "48d3d118",
   "metadata": {},
   "outputs": [
    {
     "data": {
      "text/plain": [
       "4    27815\n",
       "2     3124\n",
       "1     1039\n",
       "0      311\n",
       "3      271\n",
       "Name: Race, dtype: int64"
      ]
     },
     "execution_count": 67,
     "metadata": {},
     "output_type": "execute_result"
    }
   ],
   "source": [
    "df['Race'] = lb.fit_transform(df['Race'])\n",
    "df['Race'].value_counts()"
   ]
  },
  {
   "cell_type": "code",
   "execution_count": 68,
   "id": "fdf3dca5",
   "metadata": {},
   "outputs": [
    {
     "data": {
      "text/plain": [
       "1    21789\n",
       "0    10771\n",
       "Name: Sex, dtype: int64"
      ]
     },
     "execution_count": 68,
     "metadata": {},
     "output_type": "execute_result"
    }
   ],
   "source": [
    "df['Sex'] = lb.fit_transform(df['Sex'])\n",
    "df['Sex'].value_counts()"
   ]
  },
  {
   "cell_type": "code",
   "execution_count": 69,
   "id": "23b08c79",
   "metadata": {},
   "outputs": [
    {
     "data": {
      "text/plain": [
       "39    29169\n",
       "26      643\n",
       "0       583\n",
       "30      198\n",
       "11      137\n",
       "2       121\n",
       "33      114\n",
       "8       106\n",
       "19      100\n",
       "5        95\n",
       "9        90\n",
       "23       81\n",
       "35       80\n",
       "3        75\n",
       "22       73\n",
       "6        70\n",
       "40       67\n",
       "13       64\n",
       "24       62\n",
       "31       60\n",
       "4        59\n",
       "36       51\n",
       "14       44\n",
       "20       43\n",
       "32       37\n",
       "27       34\n",
       "29       31\n",
       "10       29\n",
       "12       29\n",
       "7        28\n",
       "21       24\n",
       "17       20\n",
       "1        19\n",
       "38       19\n",
       "25       18\n",
       "37       18\n",
       "41       16\n",
       "28       14\n",
       "16       13\n",
       "18       13\n",
       "34       12\n",
       "15        1\n",
       "Name: Native_country, dtype: int64"
      ]
     },
     "execution_count": 69,
     "metadata": {},
     "output_type": "execute_result"
    }
   ],
   "source": [
    "df['Native_country'] = lb.fit_transform(df['Native_country'])\n",
    "df['Native_country'].value_counts()"
   ]
  },
  {
   "cell_type": "code",
   "execution_count": 70,
   "id": "b14b2ae9",
   "metadata": {},
   "outputs": [
    {
     "data": {
      "text/plain": [
       "0    24719\n",
       "1     7841\n",
       "Name: Income, dtype: int64"
      ]
     },
     "execution_count": 70,
     "metadata": {},
     "output_type": "execute_result"
    }
   ],
   "source": [
    "df['Income'] = lb.fit_transform(df['Income'])\n",
    "df['Income'].value_counts()"
   ]
  },
  {
   "cell_type": "markdown",
   "id": "93438029",
   "metadata": {},
   "source": [
    "### Checking Correlation  "
   ]
  },
  {
   "cell_type": "code",
   "execution_count": 71,
   "id": "d4b5e641",
   "metadata": {},
   "outputs": [
    {
     "data": {
      "text/plain": [
       "Age               0.234039\n",
       "Workclass         0.051645\n",
       "Fnlwgt           -0.009481\n",
       "Education         0.079311\n",
       "Edu_no            0.335182\n",
       "Marital_status   -0.199295\n",
       "Occupation        0.075448\n",
       "Relationship     -0.250924\n",
       "Race              0.071853\n",
       "Sex               0.215995\n",
       "Capital_gain      0.223333\n",
       "Capital_loss      0.150523\n",
       "Hours_per_week    0.229690\n",
       "Native_country    0.015845\n",
       "Income            1.000000\n",
       "Name: Income, dtype: float64"
      ]
     },
     "execution_count": 71,
     "metadata": {},
     "output_type": "execute_result"
    }
   ],
   "source": [
    "df.corr() ['Income']"
   ]
  },
  {
   "cell_type": "markdown",
   "id": "f7c2c444",
   "metadata": {},
   "source": [
    "### Excluding Columns which is less relevant "
   ]
  },
  {
   "cell_type": "code",
   "execution_count": 72,
   "id": "8149f958",
   "metadata": {},
   "outputs": [
    {
     "name": "stdout",
     "output_type": "stream",
     "text": [
      "(32560, 9) (32560,)\n"
     ]
    }
   ],
   "source": [
    "y = df['Income']\n",
    "x = df.iloc[:,[0,1,3,4,6,8,9,10,11]]\n",
    "print(x.shape,y.shape)"
   ]
  },
  {
   "cell_type": "markdown",
   "id": "8085b454",
   "metadata": {},
   "source": [
    "### Spliting data into training and testing "
   ]
  },
  {
   "cell_type": "code",
   "execution_count": 73,
   "id": "10759695",
   "metadata": {},
   "outputs": [
    {
     "name": "stdout",
     "output_type": "stream",
     "text": [
      "(24420, 9)\n",
      "(24420,)\n",
      "(8140, 9)\n",
      "(8140,)\n"
     ]
    }
   ],
   "source": [
    "from sklearn.model_selection import train_test_split                  \n",
    "x_tr, x_te, y_tr, y_te = train_test_split(x,y,test_size=0.25)\n",
    "print(x_tr.shape)\n",
    "print(y_tr.shape)\n",
    "print(x_te.shape)\n",
    "print(y_te.shape)"
   ]
  },
  {
   "cell_type": "code",
   "execution_count": 74,
   "id": "9c1f31f3",
   "metadata": {},
   "outputs": [],
   "source": [
    "def apply_model(model) :\n",
    "    model.fit(x_tr,y_tr)\n",
    "    print('Accuracy',model.score(x_te,y_te))\n",
    "    ypred = model.predict(x_te)\n",
    "    print('Predicted Values\\n',ypred)\n",
    "    cm = confusion_matrix(y_te,ypred)\n",
    "    print('Confusion Matrix\\n',cm)\n",
    "    sns.heatmap(cm,annot=True)\n",
    "    plt.show()\n",
    "    print('Classification Report\\n',classification_report(y_te,ypred))"
   ]
  },
  {
   "cell_type": "markdown",
   "id": "e5dd027f",
   "metadata": {},
   "source": [
    "## Applying different Models "
   ]
  },
  {
   "cell_type": "markdown",
   "id": "2a072714",
   "metadata": {},
   "source": [
    "## 1) Logistic Regression "
   ]
  },
  {
   "cell_type": "code",
   "execution_count": 75,
   "id": "a531482d",
   "metadata": {},
   "outputs": [
    {
     "name": "stderr",
     "output_type": "stream",
     "text": [
      "C:\\Users\\HP-PC\\anaconda3\\lib\\site-packages\\sklearn\\linear_model\\_logistic.py:763: ConvergenceWarning: lbfgs failed to converge (status=1):\n",
      "STOP: TOTAL NO. of ITERATIONS REACHED LIMIT.\n",
      "\n",
      "Increase the number of iterations (max_iter) or scale the data as shown in:\n",
      "    https://scikit-learn.org/stable/modules/preprocessing.html\n",
      "Please also refer to the documentation for alternative solver options:\n",
      "    https://scikit-learn.org/stable/modules/linear_model.html#logistic-regression\n",
      "  n_iter_i = _check_optimize_result(\n"
     ]
    },
    {
     "name": "stdout",
     "output_type": "stream",
     "text": [
      "Accuracy 0.8002457002457003\n",
      "Predicted Values\n",
      " [0 0 0 ... 0 0 0]\n",
      "Confusion Matrix\n",
      " [[5974  241]\n",
      " [1385  540]]\n"
     ]
    },
    {
     "data": {
      "image/png": "[encoded data removed]",
      "text/plain": [
       "<Figure size 432x288 with 2 Axes>"
      ]
     },
     "metadata": {
      "needs_background": "light"
     },
     "output_type": "display_data"
    },
    {
     "name": "stdout",
     "output_type": "stream",
     "text": [
      "Classification Report\n",
      "               precision    recall  f1-score   support\n",
      "\n",
      "           0       0.81      0.96      0.88      6215\n",
      "           1       0.69      0.28      0.40      1925\n",
      "\n",
      "    accuracy                           0.80      8140\n",
      "   macro avg       0.75      0.62      0.64      8140\n",
      "weighted avg       0.78      0.80      0.77      8140\n",
      "\n"
     ]
    }
   ],
   "source": [
    "m1 = LogisticRegression()\n",
    "apply_model(m1)"
   ]
  },
  {
   "cell_type": "markdown",
   "id": "f941b901",
   "metadata": {},
   "source": [
    "## 2) Decision Tree "
   ]
  },
  {
   "cell_type": "code",
   "execution_count": 76,
   "id": "2a76320a",
   "metadata": {},
   "outputs": [
    {
     "name": "stdout",
     "output_type": "stream",
     "text": [
      "Accuracy 0.8221130221130221\n",
      "Predicted Values\n",
      " [0 0 0 ... 1 0 0]\n",
      "Confusion Matrix\n",
      " [[5762  453]\n",
      " [ 995  930]]\n"
     ]
    },
    {
     "data": {
      "image/png": "[encoded data removed]",
      "text/plain": [
       "<Figure size 432x288 with 2 Axes>"
      ]
     },
     "metadata": {
      "needs_background": "light"
     },
     "output_type": "display_data"
    },
    {
     "name": "stdout",
     "output_type": "stream",
     "text": [
      "Classification Report\n",
      "               precision    recall  f1-score   support\n",
      "\n",
      "           0       0.85      0.93      0.89      6215\n",
      "           1       0.67      0.48      0.56      1925\n",
      "\n",
      "    accuracy                           0.82      8140\n",
      "   macro avg       0.76      0.71      0.73      8140\n",
      "weighted avg       0.81      0.82      0.81      8140\n",
      "\n"
     ]
    }
   ],
   "source": [
    "m2 = DecisionTreeClassifier(criterion = 'gini', max_depth=5,min_samples_split=10)\n",
    "apply_model(m2)"
   ]
  },
  {
   "cell_type": "markdown",
   "id": "cd285173",
   "metadata": {},
   "source": [
    "## 3) Random Forest "
   ]
  },
  {
   "cell_type": "code",
   "execution_count": 77,
   "id": "44166113",
   "metadata": {},
   "outputs": [
    {
     "name": "stdout",
     "output_type": "stream",
     "text": [
      "Accuracy 0.8427518427518428\n",
      "Predicted Values\n",
      " [0 0 0 ... 1 0 0]\n",
      "Confusion Matrix\n",
      " [[5926  289]\n",
      " [ 991  934]]\n"
     ]
    },
    {
     "data": {
      "image/png": "[encoded data removed]",
      "text/plain": [
       "<Figure size 432x288 with 2 Axes>"
      ]
     },
     "metadata": {
      "needs_background": "light"
     },
     "output_type": "display_data"
    },
    {
     "name": "stdout",
     "output_type": "stream",
     "text": [
      "Classification Report\n",
      "               precision    recall  f1-score   support\n",
      "\n",
      "           0       0.86      0.95      0.90      6215\n",
      "           1       0.76      0.49      0.59      1925\n",
      "\n",
      "    accuracy                           0.84      8140\n",
      "   macro avg       0.81      0.72      0.75      8140\n",
      "weighted avg       0.83      0.84      0.83      8140\n",
      "\n"
     ]
    }
   ],
   "source": [
    "m3 = RandomForestClassifier(n_estimators=70,criterion='gini',max_depth=15,min_samples_split=30)\n",
    "apply_model(m3)"
   ]
  },
  {
   "cell_type": "markdown",
   "id": "313c0ef8",
   "metadata": {},
   "source": [
    "## 4) KNN "
   ]
  },
  {
   "cell_type": "code",
   "execution_count": 78,
   "id": "93fc5c7b",
   "metadata": {},
   "outputs": [
    {
     "name": "stdout",
     "output_type": "stream",
     "text": [
      "Accuracy 0.835995085995086\n",
      "Predicted Values\n",
      " [0 0 0 ... 1 0 0]\n",
      "Confusion Matrix\n",
      " [[5828  387]\n",
      " [ 948  977]]\n"
     ]
    },
    {
     "data": {
      "image/png": "[encoded data removed]",
      "text/plain": [
       "<Figure size 432x288 with 2 Axes>"
      ]
     },
     "metadata": {
      "needs_background": "light"
     },
     "output_type": "display_data"
    },
    {
     "name": "stdout",
     "output_type": "stream",
     "text": [
      "Classification Report\n",
      "               precision    recall  f1-score   support\n",
      "\n",
      "           0       0.86      0.94      0.90      6215\n",
      "           1       0.72      0.51      0.59      1925\n",
      "\n",
      "    accuracy                           0.84      8140\n",
      "   macro avg       0.79      0.72      0.75      8140\n",
      "weighted avg       0.83      0.84      0.83      8140\n",
      "\n"
     ]
    }
   ],
   "source": [
    "m5 = KNeighborsClassifier(n_neighbors = 51)\n",
    "apply_model(m5)"
   ]
  },
  {
   "cell_type": "markdown",
   "id": "28340217",
   "metadata": {},
   "source": [
    "## 5) SVM "
   ]
  },
  {
   "cell_type": "code",
   "execution_count": 79,
   "id": "8509b834",
   "metadata": {},
   "outputs": [
    {
     "name": "stdout",
     "output_type": "stream",
     "text": [
      "Accuracy 0.803931203931204\n",
      "Predicted Values\n",
      " [0 0 0 ... 0 0 0]\n",
      "Confusion Matrix\n",
      " [[6026  189]\n",
      " [1407  518]]\n"
     ]
    },
    {
     "data": {
      "image/png": "[encoded data removed]",
      "text/plain": [
       "<Figure size 432x288 with 2 Axes>"
      ]
     },
     "metadata": {
      "needs_background": "light"
     },
     "output_type": "display_data"
    },
    {
     "name": "stdout",
     "output_type": "stream",
     "text": [
      "Classification Report\n",
      "               precision    recall  f1-score   support\n",
      "\n",
      "           0       0.81      0.97      0.88      6215\n",
      "           1       0.73      0.27      0.39      1925\n",
      "\n",
      "    accuracy                           0.80      8140\n",
      "   macro avg       0.77      0.62      0.64      8140\n",
      "weighted avg       0.79      0.80      0.77      8140\n",
      "\n"
     ]
    }
   ],
   "source": [
    "m4 = SVC(random_state = 50)\n",
    "apply_model(m4)"
   ]
  },
  {
   "cell_type": "markdown",
   "id": "75411229",
   "metadata": {},
   "source": [
    "### SVM is not handling such big data. For Linear Kernel its getting stuck and is not responding after restarting the kernel again and again its repeteadly showing kernel is dead thats why i have to pass random states."
   ]
  },
  {
   "cell_type": "markdown",
   "id": "2a24b6e9",
   "metadata": {},
   "source": [
    "# CONCLUSION:"
   ]
  },
  {
   "cell_type": "markdown",
   "id": "9e729642",
   "metadata": {},
   "source": [
    "## Based on Precision, F1-Score, Recall Values, Prediction Pie charts, Accuracy Score and Confusion Matrix, We can say that RANDOM FOREST CLASSIFICATION IS BEST for this problem statement where we are predicting the person's income. "
   ]
  }
 ],
 "metadata": {
  "kernelspec": {
   "display_name": "Python 3 (ipykernel)",
   "language": "python",
   "name": "python3"
  },
  "language_info": {
   "codemirror_mode": {
    "name": "ipython",
    "version": 3
   },
   "file_extension": ".py",
   "mimetype": "text/x-python",
   "name": "python",
   "nbconvert_exporter": "python",
   "pygments_lexer": "ipython3",
   "version": "3.9.7"
  }
 },
 "nbformat": 4,
 "nbformat_minor": 5
}
